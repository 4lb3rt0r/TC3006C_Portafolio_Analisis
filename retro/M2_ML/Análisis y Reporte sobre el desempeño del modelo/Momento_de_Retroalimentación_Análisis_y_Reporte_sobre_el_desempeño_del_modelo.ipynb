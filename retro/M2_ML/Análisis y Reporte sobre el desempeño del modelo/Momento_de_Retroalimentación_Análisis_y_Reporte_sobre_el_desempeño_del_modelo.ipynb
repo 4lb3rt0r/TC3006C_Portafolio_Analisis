{
  "nbformat": 4,
  "nbformat_minor": 0,
  "metadata": {
    "colab": {
      "provenance": []
    },
    "kernelspec": {
      "name": "python3",
      "display_name": "Python 3"
    },
    "language_info": {
      "name": "python"
    }
  },
  "cells": [
    {
      "cell_type": "markdown",
      "source": [
        "# **Momento de Retroalimentación: Módulo 2 Análisis y Reporte sobre el desempeño del modelo. (Portafolio Análisis)**\n",
        "\n",
        "## **Instrucciones**\n",
        "\n",
        "**Entregable:** Análisis y Reporte sobre el desempeño del modelo.\n",
        "\n",
        "1. Escoge una de las 2 implementaciones que tengas y genera un análisis sobre su desempeño en un set de datos. Este análisis lo deberás documentar en un reporte con indicadores claros y gráficas comparativas que respalden tu análisis.\n",
        "2. El análisis debe de contener los siguientes elementos:\n",
        "  1. Separación y evaluación del modelo con un conjunto de prueba y un conjunto de validación (Train/Test/Validation).\n",
        "  2. Diagnóstico y explicación el grado de bias o sesgo: bajo medio alto\n",
        "  3. Diagnóstico y explicación el grado de varianza: bajo medio alto\n",
        "  4. Diagnóstico y explicación el nivel de ajuste del modelo: underfitt fitt overfitt\n",
        "3. Basándote en lo encontrado en tu análisis utiliza técnicas de regularización o ajuste de parámetros para mejorar el desempeño de tu modelo y documenta en tu reporte cómo mejoró este."
      ],
      "metadata": {
        "id": "CR4liZQyeAzC"
      }
    },
    {
      "cell_type": "markdown",
      "source": [
        "## **Análisis y Reporte sobre el Desempeño del Modelo**\n",
        "\n",
        "A lo largo de este reporte estaré analizando el rendimiento de mi algoritmo de redes neuronales que desarrollé para la entrega Momento de Retroalimentación. Módulo 2. Uso de framework o biblioteca de aprendizaje máquina para la implementación de una solución, en la cual hizo uso de una base de datos de películas de Marvel, en resumidas cuentas, contiene información acerca de las recaudaciones, presupuesto, críticas, porcentaje de aceptación, entre otras características relacionadas que sirven para determinar cuál es la película más exitosa hecha por Marvel.\n",
        "\n",
        "Este entregable será muy parecido al anterior, sin embargo se ahondará en los siguientes puntos:\n",
        "\n",
        "* Separación y evaluación del modelo con un conjunto de prueba y un conjunto de validación (Train/Test/Validation).\n",
        "* Diagnóstico y explicación el grado de bias o sesgo: bajo medio alto\n",
        "* Diagnóstico y explicación el grado de varianza: bajo medio alto\n",
        "* Diagnóstico y explicación el nivel de ajuste del modelo: underfitt fitt overfitt\n"
      ],
      "metadata": {
        "id": "oVDwstSUhMZT"
      }
    },
    {
      "cell_type": "markdown",
      "source": [
        "## **Antes de empezar**\n",
        "Lo primero que debemos hacer es cargar los datos (listas) y librerías, esto incluye el framework con el que se trabajará, en este caso es SciKitLearn. Para ello, debemos:"
      ],
      "metadata": {
        "id": "t3TrqLifD8le"
      }
    },
    {
      "cell_type": "markdown",
      "source": [
        "Ejecutar esta celda solo si estas utilizando Google Colab. Se deberá subir el archivo CSV a nuestro Drive y montarlo dentro de Colab:"
      ],
      "metadata": {
        "id": "naTRiLYvdSPp"
      }
    },
    {
      "cell_type": "code",
      "source": [
        "from google.colab import drive\n",
        "drive.mount('/content/drive')"
      ],
      "metadata": {
        "colab": {
          "base_uri": "https://localhost:8080/"
        },
        "id": "56Y1vu8Lcl4q",
        "outputId": "cba4fc71-eec9-4c9d-f0c9-11ac6b4d16e4"
      },
      "execution_count": 16,
      "outputs": [
        {
          "output_type": "stream",
          "name": "stdout",
          "text": [
            "Drive already mounted at /content/drive; to attempt to forcibly remount, call drive.mount(\"/content/drive\", force_remount=True).\n"
          ]
        }
      ]
    },
    {
      "cell_type": "markdown",
      "source": [
        "## Importar bibliotecas\n",
        "\n",
        "Para este entregable ahora podemos implementar más de las librerías que se encuentran relacionadas con implementación de modelos de Machine Learning, en este caso usaremos SKLearn para implementar redes neuronales:"
      ],
      "metadata": {
        "id": "sArIUpHXIff_"
      }
    },
    {
      "cell_type": "code",
      "execution_count": 30,
      "metadata": {
        "id": "BSLHrsNTFMwK"
      },
      "outputs": [],
      "source": [
        "# Importamos tensorflow como herramienta de apoyo para la implementación de keras y scikitLearn\n",
        "import tensorflow as tf\n",
        "# Importamos Keras\n",
        "from tensorflow import keras\n",
        "# Importamos GridSearch para aplicarlo al refinamiento del modelo\n",
        "from sklearn.model_selection import GridSearchCV\n",
        "# Importamos la funcion train_test_split() para dividir los datos de entrada\n",
        "from sklearn.model_selection import train_test_split\n",
        "# Importamos la función de StandardScaler para estandarizar los datos de entrada\n",
        "from sklearn.preprocessing import StandardScaler\n",
        "# Importamos las funciones de mean_squared_error y mean_absolute_error para evaluar el rendimiento del modelo posterior a la predicción\n",
        "from sklearn.metrics import mean_squared_error, mean_absolute_error\n",
        "# Importamos KerasRegressor para realizar un GridSearch\n",
        "from tensorflow.keras.wrappers.scikit_learn import KerasRegressor\n",
        "\n",
        "# Importamos librerías adicionales para el tratamiento y proyección de los datos\n",
        "import pandas as pd\n",
        "import numpy as np\n",
        "import seaborn as sns\n",
        "import matplotlib.pyplot as plt\n",
        "from prettytable import PrettyTable"
      ]
    },
    {
      "cell_type": "markdown",
      "source": [
        "Colocamos la ruta dónde se encuentra el archivo CSV y cargamos los datos:"
      ],
      "metadata": {
        "id": "Yh5UggQedrKy"
      }
    },
    {
      "cell_type": "code",
      "source": [
        "# Editar el path de ser necesario\n",
        "data = pd.read_csv('/content/drive/MyDrive/Colab Notebooks/Machine Learning/Marvel_Movies.csv')"
      ],
      "metadata": {
        "id": "zNQtQdjJdz6L"
      },
      "execution_count": 18,
      "outputs": []
    },
    {
      "cell_type": "markdown",
      "source": [
        "## Extraemos los datos de interés y los dividimos por segmentos\n",
        "\n",
        "Empezando por la separación del dataset, esto lo podemos ver reflejado desde la implementación del código. Este proceso se lleva a cabo con la implementación de las siguientes herramientas:"
      ],
      "metadata": {
        "id": "eR2E6wf09scj"
      }
    },
    {
      "cell_type": "code",
      "source": [
        "# Extraemos las columnas con datos para generar una predicción:\n",
        "# Lista con todos los valores de la variable independiente\n",
        "X = data[['opening weekend ($m)'][:len(data)//2]]\n",
        "# Lista con todos los valores de la variable dependiente\n",
        "y = data[['second weekend ($m)'][:len(data)//2]]\n",
        "\n",
        "# Dividimos los datos en sets de entrenamiento, validación y pruebas\n",
        "X_train, X_temp, y_train, y_temp = train_test_split(X, y, test_size=0.2, random_state=42)\n",
        "X_val, X_test, y_val, y_test = train_test_split(X_temp, y_temp, test_size=0.5, random_state=42)\n",
        "\n",
        "\n",
        "# Estandarizamos los datos de pruebas y validación\n",
        "scaler = StandardScaler()\n",
        "X_train_scaled = scaler.fit_transform(X_train)\n",
        "X_val_scaled = scaler.transform(X_val)\n",
        "X_test_scaled = scaler.transform(X_test)"
      ],
      "metadata": {
        "id": "thU7z6bq-FAL"
      },
      "execution_count": 19,
      "outputs": []
    },
    {
      "cell_type": "markdown",
      "source": [
        "Básicamente train_test_split es una función encargada de separa datos de forma aleatoria, con el fin de obtener 2 o más subsets de un mismo conjunto de datos. Después de extraer los datos del archivo “Marvel_Movies.csv”:"
      ],
      "metadata": {
        "id": "FcNsO0VuZiq_"
      }
    },
    {
      "cell_type": "markdown",
      "source": [
        "### **Training Set**\n",
        "\n",
        "El set de entrenamiento este compuesto de las variables X_train y y_train. Estas dos son utilizadas dentro de la sección de entrenamiento, que sirve para que el modelo puedo probar algunos valores iniciales, entienda un poco del contexto de la situación y en base a ello pueda empezar a generar algunas cuántas predicciones que, con cada iteración, reduzca el valor del error lo más posible y esto le permita posteriormente proporcionar resultados coherentes y predicciones certeras."
      ],
      "metadata": {
        "id": "6P-QcRaJZqd2"
      }
    },
    {
      "cell_type": "markdown",
      "source": [
        "### **Test / Validation Set**\n",
        "\n",
        "El set de pruebas o validación este compuesto de las variables X_test y y_test. Estas dos son utilizadas dentro de la sección de predicciones, la cual consiste en que, en base al entrenamiento realizado previamente, el modelo pueda empezar a empezar a recibir valores de entrada (X_test) sin recibir los valores de salida (y_test), generando predicciones por si mismo, claro que se espera que teniendo un buen entrenamiento y un MSE pequeño, el rango de error de las pruebas sea de igual forma pequeño y muy preciso en comparación con los datos reales (y_test).\n",
        "Para la validación, no es totalmente necesario declarar variables adicionales para comparar los resultados del modelo con los valores reales, sin embargo esto se puede hacer con los valores de X_val y y_val, son exactamente los mismos valores que X_test y y_test y no son modificados en ningún momento, solo serán utilizados como herramienta de comparación en contraste de los datos generados por las estimaciones del modelo."
      ],
      "metadata": {
        "id": "0n-vN3XOZyPc"
      }
    },
    {
      "cell_type": "markdown",
      "source": [
        "## Construimos la Red Neuronal\n",
        "El modelo se conforma de 4 capas, la capa de entrada conformada de 25 neuronas, 50 para la segunda, 70 para la tercera y una última de la capa de salida:"
      ],
      "metadata": {
        "id": "44x--mfx_l0_"
      }
    },
    {
      "cell_type": "code",
      "source": [
        "model = keras.Sequential([\n",
        "    keras.layers.Dense(25, activation='tanh', input_shape=(1,)), # Capa de entrada con 25 neuronas, función de activación \"tanh\" y una variable de entrada\n",
        "    keras.layers.Dense(50, activation='tanh'), # Segunda Capa con 50 neuronas y una función de activación \"tanh\"\n",
        "    keras.layers.Dense(70, activation='relu'), # Tercer capa con 70 neuronas y una función de activación \"relu\"\n",
        "    keras.layers.Dense(1) # Capa de salida con una neurona\n",
        "])\n",
        "\n",
        "# Compilamos el modelo\n",
        "model.compile(optimizer='adam', loss='mean_squared_error')"
      ],
      "metadata": {
        "id": "3F746ex0_pNz"
      },
      "execution_count": 20,
      "outputs": []
    },
    {
      "cell_type": "markdown",
      "source": [
        "## Entrenamos el modelo\n",
        "Entrenamos la red neuronal con el set de entrenamiento de datos. Después de probar distintos tipos de variables, encontré que por lo menos el batch_size tiene que ser pequeño y 100 iteraciones son necesarias para obtener un buen resultado (evidentemente con la configuración previamente determinado):"
      ],
      "metadata": {
        "id": "Dx7-bjEfAsPz"
      }
    },
    {
      "cell_type": "code",
      "source": [
        "history = model.fit(X_train_scaled, y_train, epochs=100, batch_size=4, validation_data=(X_val_scaled, y_val))"
      ],
      "metadata": {
        "id": "aBha81gWAujs",
        "colab": {
          "base_uri": "https://localhost:8080/"
        },
        "outputId": "b95778a9-29ba-45f3-f327-bd4b1d61ec0a"
      },
      "execution_count": 21,
      "outputs": [
        {
          "output_type": "stream",
          "name": "stdout",
          "text": [
            "Epoch 1/100\n",
            "6/6 [==============================] - 1s 32ms/step - loss: 4709.5610 - val_loss: 997.9565\n",
            "Epoch 2/100\n",
            "6/6 [==============================] - 0s 7ms/step - loss: 4672.8589 - val_loss: 982.0233\n",
            "Epoch 3/100\n",
            "6/6 [==============================] - 0s 7ms/step - loss: 4627.9902 - val_loss: 966.7639\n",
            "Epoch 4/100\n",
            "6/6 [==============================] - 0s 7ms/step - loss: 4587.2339 - val_loss: 950.4958\n",
            "Epoch 5/100\n",
            "6/6 [==============================] - 0s 11ms/step - loss: 4544.9438 - val_loss: 930.5075\n",
            "Epoch 6/100\n",
            "6/6 [==============================] - 0s 7ms/step - loss: 4492.7070 - val_loss: 908.1805\n",
            "Epoch 7/100\n",
            "6/6 [==============================] - 0s 7ms/step - loss: 4429.8442 - val_loss: 880.4424\n",
            "Epoch 8/100\n",
            "6/6 [==============================] - 0s 7ms/step - loss: 4359.3511 - val_loss: 848.3078\n",
            "Epoch 9/100\n",
            "6/6 [==============================] - 0s 8ms/step - loss: 4274.8701 - val_loss: 812.4136\n",
            "Epoch 10/100\n",
            "6/6 [==============================] - 0s 8ms/step - loss: 4169.3687 - val_loss: 768.5904\n",
            "Epoch 11/100\n",
            "6/6 [==============================] - 0s 7ms/step - loss: 4054.1750 - val_loss: 721.7755\n",
            "Epoch 12/100\n",
            "6/6 [==============================] - 0s 7ms/step - loss: 3922.3127 - val_loss: 673.1280\n",
            "Epoch 13/100\n",
            "6/6 [==============================] - 0s 7ms/step - loss: 3765.8875 - val_loss: 620.4235\n",
            "Epoch 14/100\n",
            "6/6 [==============================] - 0s 7ms/step - loss: 3595.0579 - val_loss: 567.5769\n",
            "Epoch 15/100\n",
            "6/6 [==============================] - 0s 8ms/step - loss: 3413.3152 - val_loss: 516.9240\n",
            "Epoch 16/100\n",
            "6/6 [==============================] - 0s 7ms/step - loss: 3221.3538 - val_loss: 472.6277\n",
            "Epoch 17/100\n",
            "6/6 [==============================] - 0s 7ms/step - loss: 3012.9062 - val_loss: 435.4329\n",
            "Epoch 18/100\n",
            "6/6 [==============================] - 0s 7ms/step - loss: 2815.4353 - val_loss: 407.0928\n",
            "Epoch 19/100\n",
            "6/6 [==============================] - 0s 7ms/step - loss: 2604.7441 - val_loss: 390.5373\n",
            "Epoch 20/100\n",
            "6/6 [==============================] - 0s 7ms/step - loss: 2407.6875 - val_loss: 382.4320\n",
            "Epoch 21/100\n",
            "6/6 [==============================] - 0s 7ms/step - loss: 2214.5076 - val_loss: 388.2175\n",
            "Epoch 22/100\n",
            "6/6 [==============================] - 0s 7ms/step - loss: 2024.6733 - val_loss: 398.7867\n",
            "Epoch 23/100\n",
            "6/6 [==============================] - 0s 7ms/step - loss: 1841.8584 - val_loss: 411.0446\n",
            "Epoch 24/100\n",
            "6/6 [==============================] - 0s 7ms/step - loss: 1684.5704 - val_loss: 425.6158\n",
            "Epoch 25/100\n",
            "6/6 [==============================] - 0s 7ms/step - loss: 1523.6168 - val_loss: 443.8269\n",
            "Epoch 26/100\n",
            "6/6 [==============================] - 0s 7ms/step - loss: 1395.8358 - val_loss: 449.5019\n",
            "Epoch 27/100\n",
            "6/6 [==============================] - 0s 7ms/step - loss: 1265.1337 - val_loss: 453.6588\n",
            "Epoch 28/100\n",
            "6/6 [==============================] - 0s 8ms/step - loss: 1138.6207 - val_loss: 448.4029\n",
            "Epoch 29/100\n",
            "6/6 [==============================] - 0s 8ms/step - loss: 1048.2828 - val_loss: 440.2676\n",
            "Epoch 30/100\n",
            "6/6 [==============================] - 0s 7ms/step - loss: 944.1674 - val_loss: 430.6722\n",
            "Epoch 31/100\n",
            "6/6 [==============================] - 0s 7ms/step - loss: 851.7125 - val_loss: 420.3643\n",
            "Epoch 32/100\n",
            "6/6 [==============================] - 0s 8ms/step - loss: 789.4615 - val_loss: 409.7734\n",
            "Epoch 33/100\n",
            "6/6 [==============================] - 0s 7ms/step - loss: 715.7034 - val_loss: 395.6070\n",
            "Epoch 34/100\n",
            "6/6 [==============================] - 0s 7ms/step - loss: 664.2027 - val_loss: 381.8739\n",
            "Epoch 35/100\n",
            "6/6 [==============================] - 0s 7ms/step - loss: 613.0632 - val_loss: 375.5060\n",
            "Epoch 36/100\n",
            "6/6 [==============================] - 0s 8ms/step - loss: 579.1811 - val_loss: 363.9500\n",
            "Epoch 37/100\n",
            "6/6 [==============================] - 0s 10ms/step - loss: 544.3904 - val_loss: 353.7731\n",
            "Epoch 38/100\n",
            "6/6 [==============================] - 0s 7ms/step - loss: 513.3525 - val_loss: 342.7154\n",
            "Epoch 39/100\n",
            "6/6 [==============================] - 0s 7ms/step - loss: 493.3540 - val_loss: 338.1211\n",
            "Epoch 40/100\n",
            "6/6 [==============================] - 0s 7ms/step - loss: 478.7944 - val_loss: 327.0826\n",
            "Epoch 41/100\n",
            "6/6 [==============================] - 0s 9ms/step - loss: 465.0573 - val_loss: 321.0597\n",
            "Epoch 42/100\n",
            "6/6 [==============================] - 0s 7ms/step - loss: 448.3573 - val_loss: 310.3001\n",
            "Epoch 43/100\n",
            "6/6 [==============================] - 0s 7ms/step - loss: 441.2306 - val_loss: 301.8479\n",
            "Epoch 44/100\n",
            "6/6 [==============================] - 0s 8ms/step - loss: 434.2829 - val_loss: 297.1542\n",
            "Epoch 45/100\n",
            "6/6 [==============================] - 0s 7ms/step - loss: 428.2415 - val_loss: 297.3064\n",
            "Epoch 46/100\n",
            "6/6 [==============================] - 0s 7ms/step - loss: 424.1071 - val_loss: 288.1541\n",
            "Epoch 47/100\n",
            "6/6 [==============================] - 0s 8ms/step - loss: 419.1018 - val_loss: 277.9388\n",
            "Epoch 48/100\n",
            "6/6 [==============================] - 0s 7ms/step - loss: 415.0001 - val_loss: 273.5025\n",
            "Epoch 49/100\n",
            "6/6 [==============================] - 0s 9ms/step - loss: 413.2065 - val_loss: 274.1231\n",
            "Epoch 50/100\n",
            "6/6 [==============================] - 0s 7ms/step - loss: 410.2151 - val_loss: 268.6681\n",
            "Epoch 51/100\n",
            "6/6 [==============================] - 0s 7ms/step - loss: 406.9783 - val_loss: 261.2529\n",
            "Epoch 52/100\n",
            "6/6 [==============================] - 0s 7ms/step - loss: 405.3244 - val_loss: 255.2744\n",
            "Epoch 53/100\n",
            "6/6 [==============================] - 0s 8ms/step - loss: 401.3757 - val_loss: 249.1263\n",
            "Epoch 54/100\n",
            "6/6 [==============================] - 0s 7ms/step - loss: 401.5996 - val_loss: 240.5543\n",
            "Epoch 55/100\n",
            "6/6 [==============================] - 0s 7ms/step - loss: 398.7896 - val_loss: 238.8915\n",
            "Epoch 56/100\n",
            "6/6 [==============================] - 0s 8ms/step - loss: 396.8849 - val_loss: 237.3648\n",
            "Epoch 57/100\n",
            "6/6 [==============================] - 0s 7ms/step - loss: 396.2077 - val_loss: 237.9890\n",
            "Epoch 58/100\n",
            "6/6 [==============================] - 0s 8ms/step - loss: 393.3666 - val_loss: 227.8648\n",
            "Epoch 59/100\n",
            "6/6 [==============================] - 0s 7ms/step - loss: 391.4272 - val_loss: 222.7317\n",
            "Epoch 60/100\n",
            "6/6 [==============================] - 0s 7ms/step - loss: 391.0409 - val_loss: 221.2667\n",
            "Epoch 61/100\n",
            "6/6 [==============================] - 0s 8ms/step - loss: 387.9845 - val_loss: 215.8253\n",
            "Epoch 62/100\n",
            "6/6 [==============================] - 0s 8ms/step - loss: 386.7026 - val_loss: 211.6145\n",
            "Epoch 63/100\n",
            "6/6 [==============================] - 0s 7ms/step - loss: 384.7795 - val_loss: 209.5624\n",
            "Epoch 64/100\n",
            "6/6 [==============================] - 0s 7ms/step - loss: 385.1240 - val_loss: 197.6944\n",
            "Epoch 65/100\n",
            "6/6 [==============================] - 0s 7ms/step - loss: 384.4830 - val_loss: 198.9500\n",
            "Epoch 66/100\n",
            "6/6 [==============================] - 0s 7ms/step - loss: 378.5881 - val_loss: 197.8549\n",
            "Epoch 67/100\n",
            "6/6 [==============================] - 0s 9ms/step - loss: 378.0811 - val_loss: 196.3516\n",
            "Epoch 68/100\n",
            "6/6 [==============================] - 0s 7ms/step - loss: 375.1862 - val_loss: 189.2943\n",
            "Epoch 69/100\n",
            "6/6 [==============================] - 0s 7ms/step - loss: 372.8882 - val_loss: 182.5033\n",
            "Epoch 70/100\n",
            "6/6 [==============================] - 0s 8ms/step - loss: 374.2914 - val_loss: 176.3186\n",
            "Epoch 71/100\n",
            "6/6 [==============================] - 0s 9ms/step - loss: 371.0659 - val_loss: 173.5145\n",
            "Epoch 72/100\n",
            "6/6 [==============================] - 0s 7ms/step - loss: 370.0969 - val_loss: 170.4386\n",
            "Epoch 73/100\n",
            "6/6 [==============================] - 0s 7ms/step - loss: 365.1167 - val_loss: 167.5234\n",
            "Epoch 74/100\n",
            "6/6 [==============================] - 0s 8ms/step - loss: 366.0713 - val_loss: 155.0600\n",
            "Epoch 75/100\n",
            "6/6 [==============================] - 0s 7ms/step - loss: 363.5367 - val_loss: 156.4772\n",
            "Epoch 76/100\n",
            "6/6 [==============================] - 0s 8ms/step - loss: 361.7549 - val_loss: 162.2110\n",
            "Epoch 77/100\n",
            "6/6 [==============================] - 0s 8ms/step - loss: 357.8917 - val_loss: 152.5766\n",
            "Epoch 78/100\n",
            "6/6 [==============================] - 0s 7ms/step - loss: 354.9098 - val_loss: 142.9638\n",
            "Epoch 79/100\n",
            "6/6 [==============================] - 0s 7ms/step - loss: 353.3069 - val_loss: 143.1161\n",
            "Epoch 80/100\n",
            "6/6 [==============================] - 0s 8ms/step - loss: 351.6259 - val_loss: 136.5910\n",
            "Epoch 81/100\n",
            "6/6 [==============================] - 0s 8ms/step - loss: 349.1891 - val_loss: 130.1989\n",
            "Epoch 82/100\n",
            "6/6 [==============================] - 0s 7ms/step - loss: 347.3023 - val_loss: 133.1166\n",
            "Epoch 83/100\n",
            "6/6 [==============================] - 0s 7ms/step - loss: 345.1865 - val_loss: 127.6737\n",
            "Epoch 84/100\n",
            "6/6 [==============================] - 0s 9ms/step - loss: 341.5679 - val_loss: 122.8360\n",
            "Epoch 85/100\n",
            "6/6 [==============================] - 0s 12ms/step - loss: 339.6742 - val_loss: 115.8777\n",
            "Epoch 86/100\n",
            "6/6 [==============================] - 0s 10ms/step - loss: 337.2421 - val_loss: 116.6149\n",
            "Epoch 87/100\n",
            "6/6 [==============================] - 0s 10ms/step - loss: 336.0146 - val_loss: 113.5773\n",
            "Epoch 88/100\n",
            "6/6 [==============================] - 0s 13ms/step - loss: 332.1215 - val_loss: 104.0628\n",
            "Epoch 89/100\n",
            "6/6 [==============================] - 0s 15ms/step - loss: 330.9419 - val_loss: 104.7791\n",
            "Epoch 90/100\n",
            "6/6 [==============================] - 0s 12ms/step - loss: 327.7764 - val_loss: 98.8867\n",
            "Epoch 91/100\n",
            "6/6 [==============================] - 0s 14ms/step - loss: 325.7419 - val_loss: 87.5102\n",
            "Epoch 92/100\n",
            "6/6 [==============================] - 0s 11ms/step - loss: 322.8111 - val_loss: 86.1919\n",
            "Epoch 93/100\n",
            "6/6 [==============================] - 0s 10ms/step - loss: 320.5023 - val_loss: 82.5093\n",
            "Epoch 94/100\n",
            "6/6 [==============================] - 0s 17ms/step - loss: 320.8429 - val_loss: 87.3757\n",
            "Epoch 95/100\n",
            "6/6 [==============================] - 0s 11ms/step - loss: 315.3235 - val_loss: 76.4105\n",
            "Epoch 96/100\n",
            "6/6 [==============================] - 0s 16ms/step - loss: 315.1294 - val_loss: 63.9175\n",
            "Epoch 97/100\n",
            "6/6 [==============================] - 0s 12ms/step - loss: 313.3167 - val_loss: 61.7105\n",
            "Epoch 98/100\n",
            "6/6 [==============================] - 0s 9ms/step - loss: 309.3064 - val_loss: 67.5593\n",
            "Epoch 99/100\n",
            "6/6 [==============================] - 0s 9ms/step - loss: 307.7658 - val_loss: 75.0709\n",
            "Epoch 100/100\n",
            "6/6 [==============================] - 0s 9ms/step - loss: 304.8067 - val_loss: 71.8623\n"
          ]
        }
      ]
    },
    {
      "cell_type": "markdown",
      "source": [
        "### Análisis del Grado del Bias o Sesgo del entrenamiento\n",
        "\n",
        "Para poder graficar el grado de sesgo del modelo durante el proceso de entrenamiento, tuvimos que crear una variable \"history\" para registrar dicho entrenamiento para posteriormente graficar esta variabilidad:"
      ],
      "metadata": {
        "id": "WUrx96rydAlJ"
      }
    },
    {
      "cell_type": "code",
      "source": [
        "plt.figure(figsize=(10, 6))\n",
        "# Obtenemos la pérdida durante el entrenamiento\n",
        "plt.plot(history.history['loss'], label='Pérdida durante entrenamiento')\n",
        "# Obtenemos la pérdida de validación durante el entrenamiento\n",
        "plt.plot(history.history['val_loss'], label='Pérdida en validación')\n",
        "# Iteraciones en el eje x\n",
        "plt.xlabel('Epochs')\n",
        "# Pérdida en el eje y\n",
        "plt.ylabel('Loss')\n",
        "# Título de la gráfica\n",
        "plt.title('Diagnóstico de Bias: Entrenamiento vs. Pérdida de validación')\n",
        "plt.legend()\n",
        "# Desplegamos la gráfica\n",
        "plt.show()"
      ],
      "metadata": {
        "colab": {
          "base_uri": "https://localhost:8080/",
          "height": 565
        },
        "id": "fA2x_MMJdMSr",
        "outputId": "56390fe7-60cf-40dc-8a10-045fc27b5132"
      },
      "execution_count": 22,
      "outputs": [
        {
          "output_type": "display_data",
          "data": {
            "text/plain": [
              "<Figure size 1000x600 with 1 Axes>"
            ],
            "image/png": "[encoded data removed]"
          },
          "metadata": {}
        }
      ]
    },
    {
      "cell_type": "markdown",
      "source": [
        "Como podemos observar, inicialmente la pérdida durante entrenamiento incia con un valor muy alto, en este caso con una pérdida de más de 4000, que con el pasar de las iteraciones baja drásticamente entre la primer iteración hasta la repetición 40 o 50, que es dónde se empieza a estabilizar el modelo y deja de presentar pérdidas significativas, podríamos decir que se decreciendo pero muy ligeramente desde el valor 500 hasta el 400 aproximadamente hasta acercarse a la línea que representa la pérdida de validación.\n",
        "\n",
        "En cuánto a este otro factor, la pérdida de validación empieza con un valor alto de 1000, pero a diferencia de la pérdida de entrenamiento, inmediatamente empieza a decrecer hasta la iteración 18, luego tiene un pequeño crecimiento entre la repetción 19 y 21, para luego seguir decreciendo ligeramente hasta acercarse bastante con los datos de pérdida de entrenamiento, claro que la pérdida de validación siempre se encuentra debajo de la péridda de entrenamiento.\n",
        "\n",
        "Algunas de las conclusiones que podemos destacar son que tenemos un claro ejemplo de convergencia de pérdida de entrenamiento, esto quiere decir que como la périda de entrenamiento se encuentra disminuyendo tan drásticamente con cada iteración que pasa hasta que logra estabilizarse en el valor 500 aproximadamente, sugiere que el modelo si está aprendiendo efecivamente en base a los datos proporcionados de entrenamiento (X_train, y_test). Es así que, esta reducción indica que el modelo está ajustando los pesos de cada neurona y sus respectivos sesgos con el fin de minimizar el error de entrenamiento.\n",
        "\n",
        "También podemos determinar un patrín de pérdida de validación, el cual se puede interpretar dese la disminución inicial con respecto a la pérdida de validación (alrededor de las iteraciones 18 o 19), esto indica que el modelo está mejorando inicialmente su capacidad para generalizar a datos invisibles. Aún así, el ligero aumento que se encuentra en la iteración 20 o 21 y el posterior decremento en el resto de las iteraciones, sugiere que el rendimiento de generalizaciób del modelo ha alcanzado una meseta.\n",
        "\n",
        "Por ende, tenemos por seguro que:\n",
        "1. Es probable que el modelo haya aprendido a ajustarse bien a los datos de entrenamiento, como lo demuestra la reducción significativa de la pérdida de entrenamiento.\n",
        "2. La mejora inicial en la pérdida de validación sugiere que el modelo es capaz de generalizarse, pero alcanza un nivel relativamente temprano de rendimiento.\n",
        "3. El desempeño del modelo es razonable, aún así creo firmemente que este se puede mejorar auque puede resultar desafiante ya que ambas pérdidas se llegan a estabilizar bastante bien. Se podría considerar experimentar con diferentes metodologías o arquitecturas para lograr una mejora en el modelo.\n",
        "\n",
        "### Análisis del grado de varianza\n",
        "Inicialmente, el modelo generaliza razonablemente bien, como se indica en la disminución de la pérdida de validación.\n",
        "Sin embargo, el rendimiento de generalización del modelo eventualmente se estabiliza, lo que sugiere que puede haber alcanzado su límite en la reducción de la varianza.\n",
        "La brecha entre la pérdida de entrenamiento y la pérdida de validación indica que aún hay margen para mejorar al reducir la diferencia entre ambas pérdidas.\n",
        "Para abordar esta varianza moderada, puedes considerar las siguientes acciones:\n",
        "\n",
        "Experimentar con técnicas de regularización como dropout o regularización L2 para reducir el sobreajuste y acercar aún más las curvas de pérdida de entrenamiento y validación.\n",
        "Recopilar datos más diversos y representativos para posiblemente mejorar la capacidad de generalización del modelo.\n",
        "Probar diferentes arquitecturas de modelos o hiperparámetros para encontrar un mejor equilibrio entre el sesgo y la varianza."
      ],
      "metadata": {
        "id": "660yZwDSe3r2"
      }
    },
    {
      "cell_type": "markdown",
      "source": [
        "## Evaluamos el rendimiento del algoritmo durante el entrenamiento\n",
        "El siguiente código se encarga de desplegar la métrica de Mean Squared Error (MSE) con respecto al rendimiento del modelo utilizando el set de datos de entrenamiento. En cuanto a los resultados, para considerar que el modelo es óptimo y ofrece buenas estimaciones, el valor de MSE debe ser lo más pequeño posible, de ser así, esto quiere decir que las predicciones se encuentran muy cerca de los valores reales:"
      ],
      "metadata": {
        "id": "WtK78NKhsRPY"
      }
    },
    {
      "cell_type": "code",
      "source": [
        "# Evaluamos el modelo con los datos de entrenamiento\n",
        "loss = model.evaluate(X_test_scaled, y_test)\n",
        "\n",
        "# Desplegamos el Mean Squared Error (MSE)\n",
        "print(\"Mean Squared Error:\", loss)"
      ],
      "metadata": {
        "colab": {
          "base_uri": "https://localhost:8080/"
        },
        "id": "q6e_vRQ3sWog",
        "outputId": "8b43cb86-7036-489e-dffb-d3070131128d"
      },
      "execution_count": 23,
      "outputs": [
        {
          "output_type": "stream",
          "name": "stdout",
          "text": [
            "1/1 [==============================] - 0s 22ms/step - loss: 159.4192\n",
            "Mean Squared Error: 159.4192352294922\n"
          ]
        }
      ]
    },
    {
      "cell_type": "markdown",
      "source": [
        "## Realizamos predicciones\n",
        "Utilizamos el modelo entrenado para realizar las predicciones con respecto a los datos de prueba (X_test_scaled):"
      ],
      "metadata": {
        "id": "1McVZa-PBQEg"
      }
    },
    {
      "cell_type": "code",
      "source": [
        "second_wknd_pred = model.predict(X_test_scaled)\n",
        "print(\"Predictions:\", second_wknd_pred)"
      ],
      "metadata": {
        "colab": {
          "base_uri": "https://localhost:8080/"
        },
        "id": "30gun5QxBaYQ",
        "outputId": "31dee12b-61ba-4840-bd19-16ee0ff32393"
      },
      "execution_count": 24,
      "outputs": [
        {
          "output_type": "stream",
          "name": "stdout",
          "text": [
            "1/1 [==============================] - 0s 100ms/step\n",
            "Predictions: [[34.584602]\n",
            " [40.747124]\n",
            " [90.82245 ]]\n"
          ]
        }
      ]
    },
    {
      "cell_type": "markdown",
      "source": [
        "## Evaluamos el modelo\n",
        "Comprobamos el rendimiento de la red neuronal con el set de entrenamiento, en este caso utilizamos el MSE y MAE para medir el nivel de error que obtuvo el modelo de los valores estimados con respecto a los valores reales:"
      ],
      "metadata": {
        "id": "7Ck1CYBzA8Rm"
      }
    },
    {
      "cell_type": "code",
      "source": [
        "# Calculamos las métricas de regresión\n",
        "mse = mean_squared_error(y_test, second_wknd_pred)\n",
        "rmse = np.sqrt(mse)\n",
        "mae = mean_absolute_error(y_test, second_wknd_pred)\n",
        "\n",
        "print(\"Mean Squared Error:\", mse)\n",
        "print(\"Root Mean Squared Error:\", rmse)\n",
        "print(\"Mean Absolute Error:\", mae)"
      ],
      "metadata": {
        "colab": {
          "base_uri": "https://localhost:8080/"
        },
        "id": "QYzuLHC4A-Sr",
        "outputId": "bd794343-6e71-482f-f853-8aa3cae71d0b"
      },
      "execution_count": 25,
      "outputs": [
        {
          "output_type": "stream",
          "name": "stdout",
          "text": [
            "Mean Squared Error: 159.41923083757524\n",
            "Root Mean Squared Error: 12.626132853632392\n",
            "Mean Absolute Error: 10.530240885416669\n"
          ]
        }
      ]
    },
    {
      "cell_type": "markdown",
      "source": [
        "## Gráfica de Comparación\n",
        "Graficamos los datos de \"Opening Weekend (MUSD)\" y \"Second Weekend (MUSD)\" originales que son parte del conjunto de pruebas (que es utilizado para generar las predicciones del modelo) con respecto a los datos originales de \"Opening Weekend (MUSD)\" con las predicciones de \"Second Weekend (MUSD)\":\n",
        "\n",
        "### **Observaciones sobre la varianza**\n",
        "\n",
        "Por lo visto en la gráfica y dentro de la tabla comparativa siguiente, podemos observar que al menos en el caso de este set de datos que otorgó la función train_test_split, estamos ante un posible caso de overfitting. Esto lo podemos asumir basándonos en el comportamiento que tienen los valores extimados con respecto a los valores reales, ya que solamente uno de estos realmente se encuentra cerca de un valor real, los demás se encuentran bastante alejados de los mismos, lo que vuelve al modelo un poco dudoso en cuanto a su precisión y su moderado nivel de varianza. Claro que sabemos que como los datos que otorga para cada set, la función train_test_split realiza un procedimiento aleatorio para ello y los resultados pueden cambiar, pero esto realmente no produce un cambio significativo en los resultados del modelo en sí mismo, siguen presentando un poco de error, aunque en realidad no es demasiado como lo podría ser con un modelo con hiperparámetros malos o poco eficientes para su caso y contexto."
      ],
      "metadata": {
        "id": "Pe-7p-1y2avL"
      }
    },
    {
      "cell_type": "code",
      "source": [
        "# Graficamos los datos originales\n",
        "plt.scatter(X_test, y_test, label='Actual Data')\n",
        "\n",
        "# Graficamos los datos estimados por la red neuronal\n",
        "plt.scatter(X_test, second_wknd_pred, color='red', label='Predicted Data')\n",
        "\n",
        "plt.xlabel('Opening Weekend ($MUSD)')\n",
        "plt.ylabel('Second Weekend ($MUSD)')\n",
        "plt.title('Actual vs. Predicciones de Second Weekend Revenue')\n",
        "plt.legend()\n",
        "plt.show()"
      ],
      "metadata": {
        "colab": {
          "base_uri": "https://localhost:8080/",
          "height": 472
        },
        "outputId": "6ea2dcf9-d879-491b-ce7c-3c9106ef08f0",
        "id": "3YM1fDWb2YcD"
      },
      "execution_count": 26,
      "outputs": [
        {
          "output_type": "display_data",
          "data": {
            "text/plain": [
              "<Figure size 640x480 with 1 Axes>"
            ],
            "image/png": "[encoded data removed]"
          },
          "metadata": {}
        }
      ]
    },
    {
      "cell_type": "markdown",
      "source": [
        "## Tabla Comparativa de Visualización de Datos\n",
        "Dentro de esta tabla se comparan los datos que se utilizaron para entrenamiento, en específico podemos encontrar los valores de la recaudación de apertura contra los valores de recaudación de la segunda semana junto a sus respectivas predicciones elaboradas por el algoritmo de redes neuronales:"
      ],
      "metadata": {
        "id": "Gg7hMPsb5AZv"
      }
    },
    {
      "cell_type": "code",
      "source": [
        "# Convertimos second_wknd_pred ndarray a una serie de pandas\n",
        "second_wknd_pred_series = pd.Series(second_wknd_pred.flatten())\n",
        "\n",
        "# Creamos la tabla comparativa\n",
        "table = PrettyTable()\n",
        "table.field_names = [\"opening weekend ($m)\", \"second weekend ($m)\", \"Predicted 2nd Weekend ($MUSD)\"]\n",
        "\n",
        "# Iteramos por cada una de las filas y añadimos los datos a la tabla\n",
        "for x, y_true, y_pred in zip(X_test.values, y_test.values, second_wknd_pred_series):\n",
        "    table.add_row([x[0], y_true[0], y_pred])\n",
        "\n",
        "# Mostramos la tabla\n",
        "print(table)"
      ],
      "metadata": {
        "colab": {
          "base_uri": "https://localhost:8080/"
        },
        "id": "FZ-zdVR35Exu",
        "outputId": "4b12139f-b165-440b-a75f-4a0b500b6142"
      },
      "execution_count": 27,
      "outputs": [
        {
          "output_type": "stream",
          "name": "stdout",
          "text": [
            "+----------------------+---------------------+-------------------------------+\n",
            "| opening weekend ($m) | second weekend ($m) | Predicted 2nd Weekend ($MUSD) |\n",
            "+----------------------+---------------------+-------------------------------+\n",
            "|        144.0         |         46.6        |       34.58460235595703       |\n",
            "|         94.0         |         42.1        |       40.74712371826172       |\n",
            "|        179.0         |         72.6        |       90.82244873046875       |\n",
            "+----------------------+---------------------+-------------------------------+\n"
          ]
        }
      ]
    },
    {
      "cell_type": "markdown",
      "source": [
        "### Definimos una función para el refinamiento del modelo"
      ],
      "metadata": {
        "id": "ZkZ3rg5ksUge"
      }
    },
    {
      "cell_type": "code",
      "source": [
        "def create_model(neurons_layer1, neurons_layer2, neurons_layer3):\n",
        "    model = keras.Sequential([\n",
        "        keras.layers.Dense(neurons_layer1, activation='tanh', input_shape=(1,)),\n",
        "        keras.layers.Dense(neurons_layer2, activation='tanh'),\n",
        "        keras.layers.Dense(neurons_layer3, activation='relu'),\n",
        "        keras.layers.Dense(1)\n",
        "    ])\n",
        "    model.compile(optimizer='adam', loss='mean_squared_error')\n",
        "    return model"
      ],
      "metadata": {
        "id": "bfrSpvf6sUq-"
      },
      "execution_count": 28,
      "outputs": []
    },
    {
      "cell_type": "markdown",
      "source": [
        "### Creamos un regresor de keras en conjunto con SciKitLearn"
      ],
      "metadata": {
        "id": "Yk6WOl-IsbXC"
      }
    },
    {
      "cell_type": "code",
      "source": [
        "model = KerasRegressor(build_fn=create_model, epochs=100, batch_size=4, verbose=0)"
      ],
      "metadata": {
        "colab": {
          "base_uri": "https://localhost:8080/"
        },
        "id": "Gu56OA2Vslyj",
        "outputId": "6b779a16-6928-4f82-e1d3-ddb5e2202d84"
      },
      "execution_count": 31,
      "outputs": [
        {
          "output_type": "stream",
          "name": "stderr",
          "text": [
            "<ipython-input-31-cc1296524701>:1: DeprecationWarning: KerasRegressor is deprecated, use Sci-Keras (https://github.com/adriangb/scikeras) instead. See https://www.adriangb.com/scikeras/stable/migration.html for help migrating.\n",
            "  model = KerasRegressor(build_fn=create_model, epochs=100, batch_size=4, verbose=0)\n"
          ]
        }
      ]
    },
    {
      "cell_type": "markdown",
      "source": [
        "### Definimos el grid que contendrá los distinos valores a probar\n",
        "\n",
        "En mi caso decidí probar variar la cantidad de neuronas por capa del modelo de redes neuronales:"
      ],
      "metadata": {
        "id": "DSny23z2soba"
      }
    },
    {
      "cell_type": "code",
      "source": [
        "param_grid = {\n",
        "    'neurons_layer1': [20, 50, 100],\n",
        "    'neurons_layer2': [30, 60, 120],\n",
        "    'neurons_layer3': [40, 80, 160]\n",
        "}"
      ],
      "metadata": {
        "id": "UAX34KeYsoi6"
      },
      "execution_count": 32,
      "outputs": []
    },
    {
      "cell_type": "markdown",
      "source": [
        "### Aplicamos GridSearch"
      ],
      "metadata": {
        "id": "lBtcFfV7s4rc"
      }
    },
    {
      "cell_type": "code",
      "source": [
        "grid = GridSearchCV(estimator=model, param_grid=param_grid, scoring='neg_mean_squared_error', cv=3)\n",
        "grid_result = grid.fit(X_train_scaled, y_train)"
      ],
      "metadata": {
        "colab": {
          "base_uri": "https://localhost:8080/"
        },
        "id": "oZ61q_Z4s4vp",
        "outputId": "acfa1080-fc71-4106-f7da-600d2acb826c"
      },
      "execution_count": 33,
      "outputs": [
        {
          "output_type": "stream",
          "name": "stderr",
          "text": [
            "WARNING:tensorflow:5 out of the last 8 calls to <function Model.make_predict_function.<locals>.predict_function at 0x78c40a62b490> triggered tf.function retracing. Tracing is expensive and the excessive number of tracings could be due to (1) creating @tf.function repeatedly in a loop, (2) passing tensors with different shapes, (3) passing Python objects instead of tensors. For (1), please define your @tf.function outside of the loop. For (2), @tf.function has reduce_retracing=True option that can avoid unnecessary retracing. For (3), please refer to https://www.tensorflow.org/guide/function#controlling_retracing and https://www.tensorflow.org/api_docs/python/tf/function for  more details.\n",
            "WARNING:tensorflow:6 out of the last 10 calls to <function Model.make_predict_function.<locals>.predict_function at 0x78c40a6304c0> triggered tf.function retracing. Tracing is expensive and the excessive number of tracings could be due to (1) creating @tf.function repeatedly in a loop, (2) passing tensors with different shapes, (3) passing Python objects instead of tensors. For (1), please define your @tf.function outside of the loop. For (2), @tf.function has reduce_retracing=True option that can avoid unnecessary retracing. For (3), please refer to https://www.tensorflow.org/guide/function#controlling_retracing and https://www.tensorflow.org/api_docs/python/tf/function for  more details.\n"
          ]
        }
      ]
    },
    {
      "cell_type": "markdown",
      "source": [
        "### Desplegamos los mejores hiper-parámetros arrojados por el modelo"
      ],
      "metadata": {
        "id": "-A_6oHcms89a"
      }
    },
    {
      "cell_type": "code",
      "source": [
        "print(\"Mejores Hiperparámetros: \", grid_result.best_params_)"
      ],
      "metadata": {
        "colab": {
          "base_uri": "https://localhost:8080/"
        },
        "id": "s_kH7enTs9Cq",
        "outputId": "2e3d7db4-c05b-42e6-ae3b-065cdf7b5026"
      },
      "execution_count": 34,
      "outputs": [
        {
          "output_type": "stream",
          "name": "stdout",
          "text": [
            "Mejores Hiperparámetros:  {'neurons_layer1': 100, 'neurons_layer2': 120, 'neurons_layer3': 80}\n"
          ]
        }
      ]
    },
    {
      "cell_type": "markdown",
      "source": [
        "### Evaluamos el modelo"
      ],
      "metadata": {
        "id": "sU_wsFDftEna"
      }
    },
    {
      "cell_type": "code",
      "source": [
        "# Calculamos los errores correspondientes al modelo refinado\n",
        "best_model = grid_result.best_estimator_\n",
        "test_loss = best_model.score(X_test_scaled, y_test)\n",
        "refined_predictions = best_model.predict(X_test_scaled)\n",
        "refined_mae = mean_absolute_error(y_test, refined_predictions)\n",
        "\n",
        "\n",
        "\n",
        "print(\"Prueba de pérdida con los mejores hiperparámetros: \", -test_loss)\n",
        "print(\"Mean Squared Error (MSE):\", mse)  # Print MSE\n",
        "print(\"Root Mean Squared Error (RMSE):\", np.sqrt(mse))  # Print RMSE\n",
        "print(\"Mean Absolute Error (MAE):\", refined_mae)  # Print MAE"
      ],
      "metadata": {
        "colab": {
          "base_uri": "https://localhost:8080/"
        },
        "id": "yH33q3bYtEqr",
        "outputId": "001646fa-f20d-49a4-c43a-7b2f5cb57e1d"
      },
      "execution_count": 37,
      "outputs": [
        {
          "output_type": "stream",
          "name": "stdout",
          "text": [
            "Prueba de pérdida con los mejores hiperparámetros:  56.65126037597656\n",
            "Mean Squared Error (MSE): 159.41923083757524\n",
            "Root Mean Squared Error (RMSE): 12.626132853632392\n",
            "Mean Absolute Error (MAE): 6.371757253011069\n"
          ]
        }
      ]
    },
    {
      "cell_type": "markdown",
      "source": [
        "## Conclusiones\n",
        "\n",
        "### Evaluación de Rendimiento del Modelo:\n",
        "\n",
        "Los mejores hiperparámetros determinados por GridSearchCV son:\n",
        "\n",
        "* Número de neuronas en la Capa 1: 100\n",
        "* Número de neuronas en la Capa 2: 120\n",
        "* Número de neuronas en la Capa 3: 80\n",
        "\n",
        "La pérdida en la prueba con los mejores hiperparámetros es aproximadamente 56.65. Esta cifra refleja el nivel de precisión del modelo en datos no vistos.\n",
        "\n",
        "1. **Comparación del MSE:** El modelo refinado tiene un MSE más bajo (56.651) en comparación con el modelo original (159.419), lo que indica que las predicciones del modelo refinado están más cerca de los valores reales.\n",
        "\n",
        "2. **Comparación del RMSE:** El modelo refinado tiene un RMSE más bajo (aproximadamente 7.528) en comparación con el modelo original (12.626), lo que indica que las predicciones del modelo refinado tienen una dispersión menor.\n",
        "\n",
        "3. **Comparación del MAE:** Compare el MAE del modelo refinado con el MAE del modelo original. Si el MAE del modelo refinado es más bajo, sugiere que las predicciones del modelo refinado están, en promedio, más cerca de los valores reales.\n",
        "\n",
        "**Interpretación:**\n",
        "\n",
        "* La elección de hiperparámetros indica una arquitectura de red neuronal relativamente compleja con un número considerable de neuronas en cada capa.\n",
        "\n",
        "* La pérdida en la prueba, aunque no es excepcionalmente baja, es razonable y sugiere que el modelo realiza predicciones con una precisión moderada.\n",
        "\n",
        "**Evaluación General:**\n",
        "\n",
        "* El modelo ofrece un rendimiento razonable con los hiperparámetros seleccionados y ha sido refinado hasta proporcionar un rendimiento predictivo adecuado para la tarea en cuestión.\n",
        "\n",
        "**Recomendaciones:**\n",
        "\n",
        "Para mejorar aún más el rendimiento del modelo, se puede continuar experimentando con hiperparámetros, incluyendo diferentes arquitecturas de redes neuronales y técnicas de regularización.\n",
        "\n",
        "También se puede explorar la posibilidad de recopilar más datos, ya que un conjunto de datos más grande a menudo ayuda a mejorar el rendimiento del modelo, aunque en mi caso, la base de datos de \"Marvel_Movies\" no es tan grande como lo esperaría, se podría considerar agregar otros lanzamientos como las series o películas más recientes que no se han incluido dentro del archivo, con el fin de experimentar un poco más con este modelo.\n",
        "\n",
        "En resumen, el modelo funciona de manera razonable con los hiperparámetros seleccionados, y existe margen para mejoras adicionales a través de experimentación y posiblemente la adquisición de más datos."
      ],
      "metadata": {
        "id": "LwGhx0iR--zc"
      }
    }
  ]
}